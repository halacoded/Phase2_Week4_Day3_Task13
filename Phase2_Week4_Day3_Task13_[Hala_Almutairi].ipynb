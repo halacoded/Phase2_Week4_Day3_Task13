{
  "nbformat": 4,
  "nbformat_minor": 0,
  "metadata": {
    "colab": {
      "provenance": []
    },
    "kernelspec": {
      "name": "python3",
      "display_name": "Python 3"
    },
    "language_info": {
      "name": "python"
    }
  },
  "cells": [
    {
      "cell_type": "markdown",
      "source": [
        "![0.jpg](data:image/jpeg;base64,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)"
      ],
      "metadata": {
        "id": "-5XSAN6CJjo4"
      }
    },
    {
      "cell_type": "markdown",
      "source": [
        "# **Task13: Underfitting and Overfitting**\n",
        "\n"
      ],
      "metadata": {
        "id": "0ImE-Uv5yZXn"
      }
    },
    {
      "cell_type": "markdown",
      "source": [
        "*  Log In to **Your Google Account**.\n",
        "*  Create a New Notebook in the Path **Coded/Phase2/Week4/Day3**.\n",
        "*  Rename the Notebook to **Phase2-Week4-Day3-Task13[YourName]**."
      ],
      "metadata": {
        "id": "7Hm8GG8bB0ov"
      }
    },
    {
      "cell_type": "markdown",
      "source": [
        "--------------------------------------------------------------------------------"
      ],
      "metadata": {
        "id": "wF73tcwtsBFx"
      }
    },
    {
      "cell_type": "markdown",
      "source": [
        "**Apply the concepts we've learned to tackle this task and discover the solution!**\n"
      ],
      "metadata": {
        "id": "cBwPEitpHwff"
      }
    },
    {
      "cell_type": "markdown",
      "source": [
        "**Data Preparation**\n",
        "1. Read the `Titanic.csv` dataset into a DataFrame named `df_titanic`.\n",
        "2. Use `head()`, `info()`, and `describe()` methods to explore`df_titanic`.\n",
        "3. Check for any missing values and handle them appropriately.\n",
        "**Data Visualization**\n",
        "4. Create a `bar plot` to visualize the count of `survivors` (0 = No, 1 = Yes).\n",
        "5. Draw a `box plot` to visualize the distribution of `ages`.\n",
        "6. Generate a `heatmap` to show correlations between features.\n",
        "**Specify Prediction Target**\n",
        "7. Identify the target variable Survived and save this variable to a new variable called `y`.\n",
        "**Specify The Features**\n",
        "8. Construct the feature DataFrame `X` by selecting relevant features.\n",
        "**Split Your Data**\n",
        "9. Use the `train_test_split` function with specified parameters to split the data `(X, y)` into training and test sets `X_train`, `y_train`, `X_test`, and `y_test`.\n",
        "**Model Training**\n",
        "10. Select a range of `max_depth` values (e.g., 1, 3, 5, 7, 10,15,20).\n",
        "11. For each `max_depth` value, train a `Random Forest model`.\n",
        "12. Record the `training and test accuracies` for varying `max_depth` Values.\n",
        "13. Create a plot of `training and test accuracies` against different `max_depth` values.\n",
        "14. At which `max_depth` value do you observe signs of overfitting?\n",
        "15. Based on your findings, what is the optimal `max_depth` for this dataset?\n",
        "\n",
        "\n",
        "\n"
      ],
      "metadata": {
        "id": "fCd25A19oP-D"
      }
    },
    {
      "cell_type": "markdown",
      "source": [
        "--------------------------------------------------------------------------------"
      ],
      "metadata": {
        "id": "JMeHtHuZtCeu"
      }
    },
    {
      "cell_type": "markdown",
      "source": [
        "* **Submit The Notebook**\n"
      ],
      "metadata": {
        "id": "nEf_PMv8qHWp"
      }
    },
    {
      "cell_type": "markdown",
      "source": [
        "#SOL"
      ],
      "metadata": {
        "id": "kPpGr1iTmMk_"
      }
    },
    {
      "cell_type": "markdown",
      "source": [
        "##Data Preparation"
      ],
      "metadata": {
        "id": "QDIJEV-_mNwI"
      }
    },
    {
      "cell_type": "markdown",
      "source": [
        "###1- Read the Titanic.csv dataset into a DataFrame named df_titanic."
      ],
      "metadata": {
        "id": "BgHchdn0gZ2O"
      }
    },
    {
      "cell_type": "code",
      "source": [
        "import pandas as pd\n",
        "df_titanic = pd.read_csv(\"/content/drive/MyDrive/Phase2/Week4/Day3/Copy of Titanic.csv\")\n"
      ],
      "metadata": {
        "id": "t6hjwctYgdRt"
      },
      "execution_count": 334,
      "outputs": []
    },
    {
      "cell_type": "markdown",
      "source": [
        "###2- Use head(), info(), and describe() methods to exploredf_titanic."
      ],
      "metadata": {
        "id": "dSF4I4wXgddF"
      }
    },
    {
      "cell_type": "code",
      "source": [
        "df_titanic.head()"
      ],
      "metadata": {
        "colab": {
          "base_uri": "https://localhost:8080/",
          "height": 206
        },
        "id": "QGtIXoQggfYP",
        "outputId": "34b8c5c7-e868-4a48-cf5b-8c845c84ca2a"
      },
      "execution_count": 335,
      "outputs": [
        {
          "output_type": "execute_result",
          "data": {
            "text/plain": [
              "   PassengerId  Survived  Pclass  \\\n",
              "0            1         0       3   \n",
              "1            2         1       1   \n",
              "2            3         1       3   \n",
              "3            4         1       1   \n",
              "4            5         0       3   \n",
              "\n",
              "                                                Name     Sex   Age  SibSp  \\\n",
              "0                            Braund, Mr. Owen Harris    male  22.0      1   \n",
              "1  Cumings, Mrs. John Bradley (Florence Briggs Th...  female  38.0      1   \n",
              "2                             Heikkinen, Miss. Laina  female  26.0      0   \n",
              "3       Futrelle, Mrs. Jacques Heath (Lily May Peel)  female  35.0      1   \n",
              "4                           Allen, Mr. William Henry    male  35.0      0   \n",
              "\n",
              "   Parch            Ticket     Fare Cabin Embarked  \n",
              "0      0         A/5 21171   7.2500   NaN        S  \n",
              "1      0          PC 17599  71.2833   C85        C  \n",
              "2      0  STON/O2. 3101282   7.9250   NaN        S  \n",
              "3      0            113803  53.1000  C123        S  \n",
              "4      0            373450   8.0500   NaN        S  "
            ],
            "text/html": [
              "\n",
              "  <div id=\"df-09505c75-4b82-43c7-8bd1-fc0b4169e0a5\" class=\"colab-df-container\">\n",
              "    <div>\n",
              "<style scoped>\n",
              "    .dataframe tbody tr th:only-of-type {\n",
              "        vertical-align: middle;\n",
              "    }\n",
              "\n",
              "    .dataframe tbody tr th {\n",
              "        vertical-align: top;\n",
              "    }\n",
              "\n",
              "    .dataframe thead th {\n",
              "        text-align: right;\n",
              "    }\n",
              "</style>\n",
              "<table border=\"1\" class=\"dataframe\">\n",
              "  <thead>\n",
              "    <tr style=\"text-align: right;\">\n",
              "      <th></th>\n",
              "      <th>PassengerId</th>\n",
              "      <th>Survived</th>\n",
              "      <th>Pclass</th>\n",
              "      <th>Name</th>\n",
              "      <th>Sex</th>\n",
              "      <th>Age</th>\n",
              "      <th>SibSp</th>\n",
              "      <th>Parch</th>\n",
              "      <th>Ticket</th>\n",
              "      <th>Fare</th>\n",
              "      <th>Cabin</th>\n",
              "      <th>Embarked</th>\n",
              "    </tr>\n",
              "  </thead>\n",
              "  <tbody>\n",
              "    <tr>\n",
              "      <th>0</th>\n",
              "      <td>1</td>\n",
              "      <td>0</td>\n",
              "      <td>3</td>\n",
              "      <td>Braund, Mr. Owen Harris</td>\n",
              "      <td>male</td>\n",
              "      <td>22.0</td>\n",
              "      <td>1</td>\n",
              "      <td>0</td>\n",
              "      <td>A/5 21171</td>\n",
              "      <td>7.2500</td>\n",
              "      <td>NaN</td>\n",
              "      <td>S</td>\n",
              "    </tr>\n",
              "    <tr>\n",
              "      <th>1</th>\n",
              "      <td>2</td>\n",
              "      <td>1</td>\n",
              "      <td>1</td>\n",
              "      <td>Cumings, Mrs. John Bradley (Florence Briggs Th...</td>\n",
              "      <td>female</td>\n",
              "      <td>38.0</td>\n",
              "      <td>1</td>\n",
              "      <td>0</td>\n",
              "      <td>PC 17599</td>\n",
              "      <td>71.2833</td>\n",
              "      <td>C85</td>\n",
              "      <td>C</td>\n",
              "    </tr>\n",
              "    <tr>\n",
              "      <th>2</th>\n",
              "      <td>3</td>\n",
              "      <td>1</td>\n",
              "      <td>3</td>\n",
              "      <td>Heikkinen, Miss. Laina</td>\n",
              "      <td>female</td>\n",
              "      <td>26.0</td>\n",
              "      <td>0</td>\n",
              "      <td>0</td>\n",
              "      <td>STON/O2. 3101282</td>\n",
              "      <td>7.9250</td>\n",
              "      <td>NaN</td>\n",
              "      <td>S</td>\n",
              "    </tr>\n",
              "    <tr>\n",
              "      <th>3</th>\n",
              "      <td>4</td>\n",
              "      <td>1</td>\n",
              "      <td>1</td>\n",
              "      <td>Futrelle, Mrs. Jacques Heath (Lily May Peel)</td>\n",
              "      <td>female</td>\n",
              "      <td>35.0</td>\n",
              "      <td>1</td>\n",
              "      <td>0</td>\n",
              "      <td>113803</td>\n",
              "      <td>53.1000</td>\n",
              "      <td>C123</td>\n",
              "      <td>S</td>\n",
              "    </tr>\n",
              "    <tr>\n",
              "      <th>4</th>\n",
              "      <td>5</td>\n",
              "      <td>0</td>\n",
              "      <td>3</td>\n",
              "      <td>Allen, Mr. William Henry</td>\n",
              "      <td>male</td>\n",
              "      <td>35.0</td>\n",
              "      <td>0</td>\n",
              "      <td>0</td>\n",
              "      <td>373450</td>\n",
              "      <td>8.0500</td>\n",
              "      <td>NaN</td>\n",
              "      <td>S</td>\n",
              "    </tr>\n",
              "  </tbody>\n",
              "</table>\n",
              "</div>\n",
              "    <div class=\"colab-df-buttons\">\n",
              "\n",
              "  <div class=\"colab-df-container\">\n",
              "    <button class=\"colab-df-convert\" onclick=\"convertToInteractive('df-09505c75-4b82-43c7-8bd1-fc0b4169e0a5')\"\n",
              "            title=\"Convert this dataframe to an interactive table.\"\n",
              "            style=\"display:none;\">\n",
              "\n",
              "  <svg xmlns=\"http://www.w3.org/2000/svg\" height=\"24px\" viewBox=\"0 -960 960 960\">\n",
              "    <path d=\"M120-120v-720h720v720H120Zm60-500h600v-160H180v160Zm220 220h160v-160H400v160Zm0 220h160v-160H400v160ZM180-400h160v-160H180v160Zm440 0h160v-160H620v160ZM180-180h160v-160H180v160Zm440 0h160v-160H620v160Z\"/>\n",
              "  </svg>\n",
              "    </button>\n",
              "\n",
              "  <style>\n",
              "    .colab-df-container {\n",
              "      display:flex;\n",
              "      gap: 12px;\n",
              "    }\n",
              "\n",
              "    .colab-df-convert {\n",
              "      background-color: #E8F0FE;\n",
              "      border: none;\n",
              "      border-radius: 50%;\n",
              "      cursor: pointer;\n",
              "      display: none;\n",
              "      fill: #1967D2;\n",
              "      height: 32px;\n",
              "      padding: 0 0 0 0;\n",
              "      width: 32px;\n",
              "    }\n",
              "\n",
              "    .colab-df-convert:hover {\n",
              "      background-color: #E2EBFA;\n",
              "      box-shadow: 0px 1px 2px rgba(60, 64, 67, 0.3), 0px 1px 3px 1px rgba(60, 64, 67, 0.15);\n",
              "      fill: #174EA6;\n",
              "    }\n",
              "\n",
              "    .colab-df-buttons div {\n",
              "      margin-bottom: 4px;\n",
              "    }\n",
              "\n",
              "    [theme=dark] .colab-df-convert {\n",
              "      background-color: #3B4455;\n",
              "      fill: #D2E3FC;\n",
              "    }\n",
              "\n",
              "    [theme=dark] .colab-df-convert:hover {\n",
              "      background-color: #434B5C;\n",
              "      box-shadow: 0px 1px 3px 1px rgba(0, 0, 0, 0.15);\n",
              "      filter: drop-shadow(0px 1px 2px rgba(0, 0, 0, 0.3));\n",
              "      fill: #FFFFFF;\n",
              "    }\n",
              "  </style>\n",
              "\n",
              "    <script>\n",
              "      const buttonEl =\n",
              "        document.querySelector('#df-09505c75-4b82-43c7-8bd1-fc0b4169e0a5 button.colab-df-convert');\n",
              "      buttonEl.style.display =\n",
              "        google.colab.kernel.accessAllowed ? 'block' : 'none';\n",
              "\n",
              "      async function convertToInteractive(key) {\n",
              "        const element = document.querySelector('#df-09505c75-4b82-43c7-8bd1-fc0b4169e0a5');\n",
              "        const dataTable =\n",
              "          await google.colab.kernel.invokeFunction('convertToInteractive',\n",
              "                                                    [key], {});\n",
              "        if (!dataTable) return;\n",
              "\n",
              "        const docLinkHtml = 'Like what you see? Visit the ' +\n",
              "          '<a target=\"_blank\" href=https://colab.research.google.com/notebooks/data_table.ipynb>data table notebook</a>'\n",
              "          + ' to learn more about interactive tables.';\n",
              "        element.innerHTML = '';\n",
              "        dataTable['output_type'] = 'display_data';\n",
              "        await google.colab.output.renderOutput(dataTable, element);\n",
              "        const docLink = document.createElement('div');\n",
              "        docLink.innerHTML = docLinkHtml;\n",
              "        element.appendChild(docLink);\n",
              "      }\n",
              "    </script>\n",
              "  </div>\n",
              "\n",
              "\n",
              "    <div id=\"df-4dd32c74-0821-43ee-b903-73d288e17169\">\n",
              "      <button class=\"colab-df-quickchart\" onclick=\"quickchart('df-4dd32c74-0821-43ee-b903-73d288e17169')\"\n",
              "                title=\"Suggest charts\"\n",
              "                style=\"display:none;\">\n",
              "\n",
              "<svg xmlns=\"http://www.w3.org/2000/svg\" height=\"24px\"viewBox=\"0 0 24 24\"\n",
              "     width=\"24px\">\n",
              "    <g>\n",
              "        <path d=\"M19 3H5c-1.1 0-2 .9-2 2v14c0 1.1.9 2 2 2h14c1.1 0 2-.9 2-2V5c0-1.1-.9-2-2-2zM9 17H7v-7h2v7zm4 0h-2V7h2v10zm4 0h-2v-4h2v4z\"/>\n",
              "    </g>\n",
              "</svg>\n",
              "      </button>\n",
              "\n",
              "<style>\n",
              "  .colab-df-quickchart {\n",
              "      --bg-color: #E8F0FE;\n",
              "      --fill-color: #1967D2;\n",
              "      --hover-bg-color: #E2EBFA;\n",
              "      --hover-fill-color: #174EA6;\n",
              "      --disabled-fill-color: #AAA;\n",
              "      --disabled-bg-color: #DDD;\n",
              "  }\n",
              "\n",
              "  [theme=dark] .colab-df-quickchart {\n",
              "      --bg-color: #3B4455;\n",
              "      --fill-color: #D2E3FC;\n",
              "      --hover-bg-color: #434B5C;\n",
              "      --hover-fill-color: #FFFFFF;\n",
              "      --disabled-bg-color: #3B4455;\n",
              "      --disabled-fill-color: #666;\n",
              "  }\n",
              "\n",
              "  .colab-df-quickchart {\n",
              "    background-color: var(--bg-color);\n",
              "    border: none;\n",
              "    border-radius: 50%;\n",
              "    cursor: pointer;\n",
              "    display: none;\n",
              "    fill: var(--fill-color);\n",
              "    height: 32px;\n",
              "    padding: 0;\n",
              "    width: 32px;\n",
              "  }\n",
              "\n",
              "  .colab-df-quickchart:hover {\n",
              "    background-color: var(--hover-bg-color);\n",
              "    box-shadow: 0 1px 2px rgba(60, 64, 67, 0.3), 0 1px 3px 1px rgba(60, 64, 67, 0.15);\n",
              "    fill: var(--button-hover-fill-color);\n",
              "  }\n",
              "\n",
              "  .colab-df-quickchart-complete:disabled,\n",
              "  .colab-df-quickchart-complete:disabled:hover {\n",
              "    background-color: var(--disabled-bg-color);\n",
              "    fill: var(--disabled-fill-color);\n",
              "    box-shadow: none;\n",
              "  }\n",
              "\n",
              "  .colab-df-spinner {\n",
              "    border: 2px solid var(--fill-color);\n",
              "    border-color: transparent;\n",
              "    border-bottom-color: var(--fill-color);\n",
              "    animation:\n",
              "      spin 1s steps(1) infinite;\n",
              "  }\n",
              "\n",
              "  @keyframes spin {\n",
              "    0% {\n",
              "      border-color: transparent;\n",
              "      border-bottom-color: var(--fill-color);\n",
              "      border-left-color: var(--fill-color);\n",
              "    }\n",
              "    20% {\n",
              "      border-color: transparent;\n",
              "      border-left-color: var(--fill-color);\n",
              "      border-top-color: var(--fill-color);\n",
              "    }\n",
              "    30% {\n",
              "      border-color: transparent;\n",
              "      border-left-color: var(--fill-color);\n",
              "      border-top-color: var(--fill-color);\n",
              "      border-right-color: var(--fill-color);\n",
              "    }\n",
              "    40% {\n",
              "      border-color: transparent;\n",
              "      border-right-color: var(--fill-color);\n",
              "      border-top-color: var(--fill-color);\n",
              "    }\n",
              "    60% {\n",
              "      border-color: transparent;\n",
              "      border-right-color: var(--fill-color);\n",
              "    }\n",
              "    80% {\n",
              "      border-color: transparent;\n",
              "      border-right-color: var(--fill-color);\n",
              "      border-bottom-color: var(--fill-color);\n",
              "    }\n",
              "    90% {\n",
              "      border-color: transparent;\n",
              "      border-bottom-color: var(--fill-color);\n",
              "    }\n",
              "  }\n",
              "</style>\n",
              "\n",
              "      <script>\n",
              "        async function quickchart(key) {\n",
              "          const quickchartButtonEl =\n",
              "            document.querySelector('#' + key + ' button');\n",
              "          quickchartButtonEl.disabled = true;  // To prevent multiple clicks.\n",
              "          quickchartButtonEl.classList.add('colab-df-spinner');\n",
              "          try {\n",
              "            const charts = await google.colab.kernel.invokeFunction(\n",
              "                'suggestCharts', [key], {});\n",
              "          } catch (error) {\n",
              "            console.error('Error during call to suggestCharts:', error);\n",
              "          }\n",
              "          quickchartButtonEl.classList.remove('colab-df-spinner');\n",
              "          quickchartButtonEl.classList.add('colab-df-quickchart-complete');\n",
              "        }\n",
              "        (() => {\n",
              "          let quickchartButtonEl =\n",
              "            document.querySelector('#df-4dd32c74-0821-43ee-b903-73d288e17169 button');\n",
              "          quickchartButtonEl.style.display =\n",
              "            google.colab.kernel.accessAllowed ? 'block' : 'none';\n",
              "        })();\n",
              "      </script>\n",
              "    </div>\n",
              "\n",
              "    </div>\n",
              "  </div>\n"
            ],
            "application/vnd.google.colaboratory.intrinsic+json": {
              "type": "dataframe",
              "variable_name": "df_titanic",
              "summary": "{\n  \"name\": \"df_titanic\",\n  \"rows\": 891,\n  \"fields\": [\n    {\n      \"column\": \"PassengerId\",\n      \"properties\": {\n        \"dtype\": \"number\",\n        \"std\": 257,\n        \"min\": 1,\n        \"max\": 891,\n        \"num_unique_values\": 891,\n        \"samples\": [\n          710,\n          440,\n          841\n        ],\n        \"semantic_type\": \"\",\n        \"description\": \"\"\n      }\n    },\n    {\n      \"column\": \"Survived\",\n      \"properties\": {\n        \"dtype\": \"number\",\n        \"std\": 0,\n        \"min\": 0,\n        \"max\": 1,\n        \"num_unique_values\": 2,\n        \"samples\": [\n          1,\n          0\n        ],\n        \"semantic_type\": \"\",\n        \"description\": \"\"\n      }\n    },\n    {\n      \"column\": \"Pclass\",\n      \"properties\": {\n        \"dtype\": \"number\",\n        \"std\": 0,\n        \"min\": 1,\n        \"max\": 3,\n        \"num_unique_values\": 3,\n        \"samples\": [\n          3,\n          1\n        ],\n        \"semantic_type\": \"\",\n        \"description\": \"\"\n      }\n    },\n    {\n      \"column\": \"Name\",\n      \"properties\": {\n        \"dtype\": \"string\",\n        \"num_unique_values\": 891,\n        \"samples\": [\n          \"Moubarek, Master. Halim Gonios (\\\"William George\\\")\",\n          \"Kvillner, Mr. Johan Henrik Johannesson\"\n        ],\n        \"semantic_type\": \"\",\n        \"description\": \"\"\n      }\n    },\n    {\n      \"column\": \"Sex\",\n      \"properties\": {\n        \"dtype\": \"category\",\n        \"num_unique_values\": 2,\n        \"samples\": [\n          \"female\",\n          \"male\"\n        ],\n        \"semantic_type\": \"\",\n        \"description\": \"\"\n      }\n    },\n    {\n      \"column\": \"Age\",\n      \"properties\": {\n        \"dtype\": \"number\",\n        \"std\": 14.526497332334044,\n        \"min\": 0.42,\n        \"max\": 80.0,\n        \"num_unique_values\": 88,\n        \"samples\": [\n          0.75,\n          22.0\n        ],\n        \"semantic_type\": \"\",\n        \"description\": \"\"\n      }\n    },\n    {\n      \"column\": \"SibSp\",\n      \"properties\": {\n        \"dtype\": \"number\",\n        \"std\": 1,\n        \"min\": 0,\n        \"max\": 8,\n        \"num_unique_values\": 7,\n        \"samples\": [\n          1,\n          0\n        ],\n        \"semantic_type\": \"\",\n        \"description\": \"\"\n      }\n    },\n    {\n      \"column\": \"Parch\",\n      \"properties\": {\n        \"dtype\": \"number\",\n        \"std\": 0,\n        \"min\": 0,\n        \"max\": 6,\n        \"num_unique_values\": 7,\n        \"samples\": [\n          0,\n          1\n        ],\n        \"semantic_type\": \"\",\n        \"description\": \"\"\n      }\n    },\n    {\n      \"column\": \"Ticket\",\n      \"properties\": {\n        \"dtype\": \"string\",\n        \"num_unique_values\": 681,\n        \"samples\": [\n          \"11774\",\n          \"248740\"\n        ],\n        \"semantic_type\": \"\",\n        \"description\": \"\"\n      }\n    },\n    {\n      \"column\": \"Fare\",\n      \"properties\": {\n        \"dtype\": \"number\",\n        \"std\": 49.693428597180905,\n        \"min\": 0.0,\n        \"max\": 512.3292,\n        \"num_unique_values\": 248,\n        \"samples\": [\n          11.2417,\n          51.8625\n        ],\n        \"semantic_type\": \"\",\n        \"description\": \"\"\n      }\n    },\n    {\n      \"column\": \"Cabin\",\n      \"properties\": {\n        \"dtype\": \"category\",\n        \"num_unique_values\": 147,\n        \"samples\": [\n          \"D45\",\n          \"B49\"\n        ],\n        \"semantic_type\": \"\",\n        \"description\": \"\"\n      }\n    },\n    {\n      \"column\": \"Embarked\",\n      \"properties\": {\n        \"dtype\": \"category\",\n        \"num_unique_values\": 3,\n        \"samples\": [\n          \"S\",\n          \"C\"\n        ],\n        \"semantic_type\": \"\",\n        \"description\": \"\"\n      }\n    }\n  ]\n}"
            }
          },
          "metadata": {},
          "execution_count": 335
        }
      ]
    },
    {
      "cell_type": "code",
      "source": [
        "df_titanic.describe()"
      ],
      "metadata": {
        "colab": {
          "base_uri": "https://localhost:8080/",
          "height": 300
        },
        "id": "Gc-m8yN8gw_N",
        "outputId": "5aa586fa-cab6-4796-8fca-2692da35df86"
      },
      "execution_count": 336,
      "outputs": [
        {
          "output_type": "execute_result",
          "data": {
            "text/plain": [
              "       PassengerId    Survived      Pclass         Age       SibSp  \\\n",
              "count   891.000000  891.000000  891.000000  714.000000  891.000000   \n",
              "mean    446.000000    0.383838    2.308642   29.699118    0.523008   \n",
              "std     257.353842    0.486592    0.836071   14.526497    1.102743   \n",
              "min       1.000000    0.000000    1.000000    0.420000    0.000000   \n",
              "25%     223.500000    0.000000    2.000000   20.125000    0.000000   \n",
              "50%     446.000000    0.000000    3.000000   28.000000    0.000000   \n",
              "75%     668.500000    1.000000    3.000000   38.000000    1.000000   \n",
              "max     891.000000    1.000000    3.000000   80.000000    8.000000   \n",
              "\n",
              "            Parch        Fare  \n",
              "count  891.000000  891.000000  \n",
              "mean     0.381594   32.204208  \n",
              "std      0.806057   49.693429  \n",
              "min      0.000000    0.000000  \n",
              "25%      0.000000    7.910400  \n",
              "50%      0.000000   14.454200  \n",
              "75%      0.000000   31.000000  \n",
              "max      6.000000  512.329200  "
            ],
            "text/html": [
              "\n",
              "  <div id=\"df-2782f775-56b7-4f87-9593-928fa98d9782\" class=\"colab-df-container\">\n",
              "    <div>\n",
              "<style scoped>\n",
              "    .dataframe tbody tr th:only-of-type {\n",
              "        vertical-align: middle;\n",
              "    }\n",
              "\n",
              "    .dataframe tbody tr th {\n",
              "        vertical-align: top;\n",
              "    }\n",
              "\n",
              "    .dataframe thead th {\n",
              "        text-align: right;\n",
              "    }\n",
              "</style>\n",
              "<table border=\"1\" class=\"dataframe\">\n",
              "  <thead>\n",
              "    <tr style=\"text-align: right;\">\n",
              "      <th></th>\n",
              "      <th>PassengerId</th>\n",
              "      <th>Survived</th>\n",
              "      <th>Pclass</th>\n",
              "      <th>Age</th>\n",
              "      <th>SibSp</th>\n",
              "      <th>Parch</th>\n",
              "      <th>Fare</th>\n",
              "    </tr>\n",
              "  </thead>\n",
              "  <tbody>\n",
              "    <tr>\n",
              "      <th>count</th>\n",
              "      <td>891.000000</td>\n",
              "      <td>891.000000</td>\n",
              "      <td>891.000000</td>\n",
              "      <td>714.000000</td>\n",
              "      <td>891.000000</td>\n",
              "      <td>891.000000</td>\n",
              "      <td>891.000000</td>\n",
              "    </tr>\n",
              "    <tr>\n",
              "      <th>mean</th>\n",
              "      <td>446.000000</td>\n",
              "      <td>0.383838</td>\n",
              "      <td>2.308642</td>\n",
              "      <td>29.699118</td>\n",
              "      <td>0.523008</td>\n",
              "      <td>0.381594</td>\n",
              "      <td>32.204208</td>\n",
              "    </tr>\n",
              "    <tr>\n",
              "      <th>std</th>\n",
              "      <td>257.353842</td>\n",
              "      <td>0.486592</td>\n",
              "      <td>0.836071</td>\n",
              "      <td>14.526497</td>\n",
              "      <td>1.102743</td>\n",
              "      <td>0.806057</td>\n",
              "      <td>49.693429</td>\n",
              "    </tr>\n",
              "    <tr>\n",
              "      <th>min</th>\n",
              "      <td>1.000000</td>\n",
              "      <td>0.000000</td>\n",
              "      <td>1.000000</td>\n",
              "      <td>0.420000</td>\n",
              "      <td>0.000000</td>\n",
              "      <td>0.000000</td>\n",
              "      <td>0.000000</td>\n",
              "    </tr>\n",
              "    <tr>\n",
              "      <th>25%</th>\n",
              "      <td>223.500000</td>\n",
              "      <td>0.000000</td>\n",
              "      <td>2.000000</td>\n",
              "      <td>20.125000</td>\n",
              "      <td>0.000000</td>\n",
              "      <td>0.000000</td>\n",
              "      <td>7.910400</td>\n",
              "    </tr>\n",
              "    <tr>\n",
              "      <th>50%</th>\n",
              "      <td>446.000000</td>\n",
              "      <td>0.000000</td>\n",
              "      <td>3.000000</td>\n",
              "      <td>28.000000</td>\n",
              "      <td>0.000000</td>\n",
              "      <td>0.000000</td>\n",
              "      <td>14.454200</td>\n",
              "    </tr>\n",
              "    <tr>\n",
              "      <th>75%</th>\n",
              "      <td>668.500000</td>\n",
              "      <td>1.000000</td>\n",
              "      <td>3.000000</td>\n",
              "      <td>38.000000</td>\n",
              "      <td>1.000000</td>\n",
              "      <td>0.000000</td>\n",
              "      <td>31.000000</td>\n",
              "    </tr>\n",
              "    <tr>\n",
              "      <th>max</th>\n",
              "      <td>891.000000</td>\n",
              "      <td>1.000000</td>\n",
              "      <td>3.000000</td>\n",
              "      <td>80.000000</td>\n",
              "      <td>8.000000</td>\n",
              "      <td>6.000000</td>\n",
              "      <td>512.329200</td>\n",
              "    </tr>\n",
              "  </tbody>\n",
              "</table>\n",
              "</div>\n",
              "    <div class=\"colab-df-buttons\">\n",
              "\n",
              "  <div class=\"colab-df-container\">\n",
              "    <button class=\"colab-df-convert\" onclick=\"convertToInteractive('df-2782f775-56b7-4f87-9593-928fa98d9782')\"\n",
              "            title=\"Convert this dataframe to an interactive table.\"\n",
              "            style=\"display:none;\">\n",
              "\n",
              "  <svg xmlns=\"http://www.w3.org/2000/svg\" height=\"24px\" viewBox=\"0 -960 960 960\">\n",
              "    <path d=\"M120-120v-720h720v720H120Zm60-500h600v-160H180v160Zm220 220h160v-160H400v160Zm0 220h160v-160H400v160ZM180-400h160v-160H180v160Zm440 0h160v-160H620v160ZM180-180h160v-160H180v160Zm440 0h160v-160H620v160Z\"/>\n",
              "  </svg>\n",
              "    </button>\n",
              "\n",
              "  <style>\n",
              "    .colab-df-container {\n",
              "      display:flex;\n",
              "      gap: 12px;\n",
              "    }\n",
              "\n",
              "    .colab-df-convert {\n",
              "      background-color: #E8F0FE;\n",
              "      border: none;\n",
              "      border-radius: 50%;\n",
              "      cursor: pointer;\n",
              "      display: none;\n",
              "      fill: #1967D2;\n",
              "      height: 32px;\n",
              "      padding: 0 0 0 0;\n",
              "      width: 32px;\n",
              "    }\n",
              "\n",
              "    .colab-df-convert:hover {\n",
              "      background-color: #E2EBFA;\n",
              "      box-shadow: 0px 1px 2px rgba(60, 64, 67, 0.3), 0px 1px 3px 1px rgba(60, 64, 67, 0.15);\n",
              "      fill: #174EA6;\n",
              "    }\n",
              "\n",
              "    .colab-df-buttons div {\n",
              "      margin-bottom: 4px;\n",
              "    }\n",
              "\n",
              "    [theme=dark] .colab-df-convert {\n",
              "      background-color: #3B4455;\n",
              "      fill: #D2E3FC;\n",
              "    }\n",
              "\n",
              "    [theme=dark] .colab-df-convert:hover {\n",
              "      background-color: #434B5C;\n",
              "      box-shadow: 0px 1px 3px 1px rgba(0, 0, 0, 0.15);\n",
              "      filter: drop-shadow(0px 1px 2px rgba(0, 0, 0, 0.3));\n",
              "      fill: #FFFFFF;\n",
              "    }\n",
              "  </style>\n",
              "\n",
              "    <script>\n",
              "      const buttonEl =\n",
              "        document.querySelector('#df-2782f775-56b7-4f87-9593-928fa98d9782 button.colab-df-convert');\n",
              "      buttonEl.style.display =\n",
              "        google.colab.kernel.accessAllowed ? 'block' : 'none';\n",
              "\n",
              "      async function convertToInteractive(key) {\n",
              "        const element = document.querySelector('#df-2782f775-56b7-4f87-9593-928fa98d9782');\n",
              "        const dataTable =\n",
              "          await google.colab.kernel.invokeFunction('convertToInteractive',\n",
              "                                                    [key], {});\n",
              "        if (!dataTable) return;\n",
              "\n",
              "        const docLinkHtml = 'Like what you see? Visit the ' +\n",
              "          '<a target=\"_blank\" href=https://colab.research.google.com/notebooks/data_table.ipynb>data table notebook</a>'\n",
              "          + ' to learn more about interactive tables.';\n",
              "        element.innerHTML = '';\n",
              "        dataTable['output_type'] = 'display_data';\n",
              "        await google.colab.output.renderOutput(dataTable, element);\n",
              "        const docLink = document.createElement('div');\n",
              "        docLink.innerHTML = docLinkHtml;\n",
              "        element.appendChild(docLink);\n",
              "      }\n",
              "    </script>\n",
              "  </div>\n",
              "\n",
              "\n",
              "    <div id=\"df-42865574-bc7f-43ae-b5c7-bcb36498a470\">\n",
              "      <button class=\"colab-df-quickchart\" onclick=\"quickchart('df-42865574-bc7f-43ae-b5c7-bcb36498a470')\"\n",
              "                title=\"Suggest charts\"\n",
              "                style=\"display:none;\">\n",
              "\n",
              "<svg xmlns=\"http://www.w3.org/2000/svg\" height=\"24px\"viewBox=\"0 0 24 24\"\n",
              "     width=\"24px\">\n",
              "    <g>\n",
              "        <path d=\"M19 3H5c-1.1 0-2 .9-2 2v14c0 1.1.9 2 2 2h14c1.1 0 2-.9 2-2V5c0-1.1-.9-2-2-2zM9 17H7v-7h2v7zm4 0h-2V7h2v10zm4 0h-2v-4h2v4z\"/>\n",
              "    </g>\n",
              "</svg>\n",
              "      </button>\n",
              "\n",
              "<style>\n",
              "  .colab-df-quickchart {\n",
              "      --bg-color: #E8F0FE;\n",
              "      --fill-color: #1967D2;\n",
              "      --hover-bg-color: #E2EBFA;\n",
              "      --hover-fill-color: #174EA6;\n",
              "      --disabled-fill-color: #AAA;\n",
              "      --disabled-bg-color: #DDD;\n",
              "  }\n",
              "\n",
              "  [theme=dark] .colab-df-quickchart {\n",
              "      --bg-color: #3B4455;\n",
              "      --fill-color: #D2E3FC;\n",
              "      --hover-bg-color: #434B5C;\n",
              "      --hover-fill-color: #FFFFFF;\n",
              "      --disabled-bg-color: #3B4455;\n",
              "      --disabled-fill-color: #666;\n",
              "  }\n",
              "\n",
              "  .colab-df-quickchart {\n",
              "    background-color: var(--bg-color);\n",
              "    border: none;\n",
              "    border-radius: 50%;\n",
              "    cursor: pointer;\n",
              "    display: none;\n",
              "    fill: var(--fill-color);\n",
              "    height: 32px;\n",
              "    padding: 0;\n",
              "    width: 32px;\n",
              "  }\n",
              "\n",
              "  .colab-df-quickchart:hover {\n",
              "    background-color: var(--hover-bg-color);\n",
              "    box-shadow: 0 1px 2px rgba(60, 64, 67, 0.3), 0 1px 3px 1px rgba(60, 64, 67, 0.15);\n",
              "    fill: var(--button-hover-fill-color);\n",
              "  }\n",
              "\n",
              "  .colab-df-quickchart-complete:disabled,\n",
              "  .colab-df-quickchart-complete:disabled:hover {\n",
              "    background-color: var(--disabled-bg-color);\n",
              "    fill: var(--disabled-fill-color);\n",
              "    box-shadow: none;\n",
              "  }\n",
              "\n",
              "  .colab-df-spinner {\n",
              "    border: 2px solid var(--fill-color);\n",
              "    border-color: transparent;\n",
              "    border-bottom-color: var(--fill-color);\n",
              "    animation:\n",
              "      spin 1s steps(1) infinite;\n",
              "  }\n",
              "\n",
              "  @keyframes spin {\n",
              "    0% {\n",
              "      border-color: transparent;\n",
              "      border-bottom-color: var(--fill-color);\n",
              "      border-left-color: var(--fill-color);\n",
              "    }\n",
              "    20% {\n",
              "      border-color: transparent;\n",
              "      border-left-color: var(--fill-color);\n",
              "      border-top-color: var(--fill-color);\n",
              "    }\n",
              "    30% {\n",
              "      border-color: transparent;\n",
              "      border-left-color: var(--fill-color);\n",
              "      border-top-color: var(--fill-color);\n",
              "      border-right-color: var(--fill-color);\n",
              "    }\n",
              "    40% {\n",
              "      border-color: transparent;\n",
              "      border-right-color: var(--fill-color);\n",
              "      border-top-color: var(--fill-color);\n",
              "    }\n",
              "    60% {\n",
              "      border-color: transparent;\n",
              "      border-right-color: var(--fill-color);\n",
              "    }\n",
              "    80% {\n",
              "      border-color: transparent;\n",
              "      border-right-color: var(--fill-color);\n",
              "      border-bottom-color: var(--fill-color);\n",
              "    }\n",
              "    90% {\n",
              "      border-color: transparent;\n",
              "      border-bottom-color: var(--fill-color);\n",
              "    }\n",
              "  }\n",
              "</style>\n",
              "\n",
              "      <script>\n",
              "        async function quickchart(key) {\n",
              "          const quickchartButtonEl =\n",
              "            document.querySelector('#' + key + ' button');\n",
              "          quickchartButtonEl.disabled = true;  // To prevent multiple clicks.\n",
              "          quickchartButtonEl.classList.add('colab-df-spinner');\n",
              "          try {\n",
              "            const charts = await google.colab.kernel.invokeFunction(\n",
              "                'suggestCharts', [key], {});\n",
              "          } catch (error) {\n",
              "            console.error('Error during call to suggestCharts:', error);\n",
              "          }\n",
              "          quickchartButtonEl.classList.remove('colab-df-spinner');\n",
              "          quickchartButtonEl.classList.add('colab-df-quickchart-complete');\n",
              "        }\n",
              "        (() => {\n",
              "          let quickchartButtonEl =\n",
              "            document.querySelector('#df-42865574-bc7f-43ae-b5c7-bcb36498a470 button');\n",
              "          quickchartButtonEl.style.display =\n",
              "            google.colab.kernel.accessAllowed ? 'block' : 'none';\n",
              "        })();\n",
              "      </script>\n",
              "    </div>\n",
              "\n",
              "    </div>\n",
              "  </div>\n"
            ],
            "application/vnd.google.colaboratory.intrinsic+json": {
              "type": "dataframe",
              "summary": "{\n  \"name\": \"df_titanic\",\n  \"rows\": 8,\n  \"fields\": [\n    {\n      \"column\": \"PassengerId\",\n      \"properties\": {\n        \"dtype\": \"number\",\n        \"std\": 320.8159711429856,\n        \"min\": 1.0,\n        \"max\": 891.0,\n        \"num_unique_values\": 6,\n        \"samples\": [\n          891.0,\n          446.0,\n          668.5\n        ],\n        \"semantic_type\": \"\",\n        \"description\": \"\"\n      }\n    },\n    {\n      \"column\": \"Survived\",\n      \"properties\": {\n        \"dtype\": \"number\",\n        \"std\": 314.8713661874558,\n        \"min\": 0.0,\n        \"max\": 891.0,\n        \"num_unique_values\": 5,\n        \"samples\": [\n          0.3838383838383838,\n          1.0,\n          0.4865924542648585\n        ],\n        \"semantic_type\": \"\",\n        \"description\": \"\"\n      }\n    },\n    {\n      \"column\": \"Pclass\",\n      \"properties\": {\n        \"dtype\": \"number\",\n        \"std\": 314.2523437079693,\n        \"min\": 0.8360712409770513,\n        \"max\": 891.0,\n        \"num_unique_values\": 6,\n        \"samples\": [\n          891.0,\n          2.308641975308642,\n          3.0\n        ],\n        \"semantic_type\": \"\",\n        \"description\": \"\"\n      }\n    },\n    {\n      \"column\": \"Age\",\n      \"properties\": {\n        \"dtype\": \"number\",\n        \"std\": 242.9056731818781,\n        \"min\": 0.42,\n        \"max\": 714.0,\n        \"num_unique_values\": 8,\n        \"samples\": [\n          29.69911764705882,\n          28.0,\n          714.0\n        ],\n        \"semantic_type\": \"\",\n        \"description\": \"\"\n      }\n    },\n    {\n      \"column\": \"SibSp\",\n      \"properties\": {\n        \"dtype\": \"number\",\n        \"std\": 314.4908277465442,\n        \"min\": 0.0,\n        \"max\": 891.0,\n        \"num_unique_values\": 6,\n        \"samples\": [\n          891.0,\n          0.5230078563411896,\n          8.0\n        ],\n        \"semantic_type\": \"\",\n        \"description\": \"\"\n      }\n    },\n    {\n      \"column\": \"Parch\",\n      \"properties\": {\n        \"dtype\": \"number\",\n        \"std\": 314.65971717879,\n        \"min\": 0.0,\n        \"max\": 891.0,\n        \"num_unique_values\": 5,\n        \"samples\": [\n          0.38159371492704824,\n          6.0,\n          0.8060572211299559\n        ],\n        \"semantic_type\": \"\",\n        \"description\": \"\"\n      }\n    },\n    {\n      \"column\": \"Fare\",\n      \"properties\": {\n        \"dtype\": \"number\",\n        \"std\": 330.6256632228577,\n        \"min\": 0.0,\n        \"max\": 891.0,\n        \"num_unique_values\": 8,\n        \"samples\": [\n          32.204207968574636,\n          14.4542,\n          891.0\n        ],\n        \"semantic_type\": \"\",\n        \"description\": \"\"\n      }\n    }\n  ]\n}"
            }
          },
          "metadata": {},
          "execution_count": 336
        }
      ]
    },
    {
      "cell_type": "code",
      "source": [
        "df_titanic.info()"
      ],
      "metadata": {
        "colab": {
          "base_uri": "https://localhost:8080/"
        },
        "id": "vhisGPKkgzKW",
        "outputId": "2e37c1df-c835-4b34-afee-b8af94bb9f15"
      },
      "execution_count": 337,
      "outputs": [
        {
          "output_type": "stream",
          "name": "stdout",
          "text": [
            "<class 'pandas.core.frame.DataFrame'>\n",
            "RangeIndex: 891 entries, 0 to 890\n",
            "Data columns (total 12 columns):\n",
            " #   Column       Non-Null Count  Dtype  \n",
            "---  ------       --------------  -----  \n",
            " 0   PassengerId  891 non-null    int64  \n",
            " 1   Survived     891 non-null    int64  \n",
            " 2   Pclass       891 non-null    int64  \n",
            " 3   Name         891 non-null    object \n",
            " 4   Sex          891 non-null    object \n",
            " 5   Age          714 non-null    float64\n",
            " 6   SibSp        891 non-null    int64  \n",
            " 7   Parch        891 non-null    int64  \n",
            " 8   Ticket       891 non-null    object \n",
            " 9   Fare         891 non-null    float64\n",
            " 10  Cabin        204 non-null    object \n",
            " 11  Embarked     889 non-null    object \n",
            "dtypes: float64(2), int64(5), object(5)\n",
            "memory usage: 83.7+ KB\n"
          ]
        }
      ]
    },
    {
      "cell_type": "markdown",
      "source": [
        "###3- Check for any missing values and handle them appropriately."
      ],
      "metadata": {
        "id": "5C_4sqOWgfmO"
      }
    },
    {
      "cell_type": "code",
      "source": [
        "df_titanic.isnull().sum()"
      ],
      "metadata": {
        "colab": {
          "base_uri": "https://localhost:8080/",
          "height": 460
        },
        "id": "CjuDyanVghN2",
        "outputId": "6bbd9b28-653d-43fa-aead-84a3feac7174"
      },
      "execution_count": 338,
      "outputs": [
        {
          "output_type": "execute_result",
          "data": {
            "text/plain": [
              "PassengerId      0\n",
              "Survived         0\n",
              "Pclass           0\n",
              "Name             0\n",
              "Sex              0\n",
              "Age            177\n",
              "SibSp            0\n",
              "Parch            0\n",
              "Ticket           0\n",
              "Fare             0\n",
              "Cabin          687\n",
              "Embarked         2\n",
              "dtype: int64"
            ],
            "text/html": [
              "<div>\n",
              "<style scoped>\n",
              "    .dataframe tbody tr th:only-of-type {\n",
              "        vertical-align: middle;\n",
              "    }\n",
              "\n",
              "    .dataframe tbody tr th {\n",
              "        vertical-align: top;\n",
              "    }\n",
              "\n",
              "    .dataframe thead th {\n",
              "        text-align: right;\n",
              "    }\n",
              "</style>\n",
              "<table border=\"1\" class=\"dataframe\">\n",
              "  <thead>\n",
              "    <tr style=\"text-align: right;\">\n",
              "      <th></th>\n",
              "      <th>0</th>\n",
              "    </tr>\n",
              "  </thead>\n",
              "  <tbody>\n",
              "    <tr>\n",
              "      <th>PassengerId</th>\n",
              "      <td>0</td>\n",
              "    </tr>\n",
              "    <tr>\n",
              "      <th>Survived</th>\n",
              "      <td>0</td>\n",
              "    </tr>\n",
              "    <tr>\n",
              "      <th>Pclass</th>\n",
              "      <td>0</td>\n",
              "    </tr>\n",
              "    <tr>\n",
              "      <th>Name</th>\n",
              "      <td>0</td>\n",
              "    </tr>\n",
              "    <tr>\n",
              "      <th>Sex</th>\n",
              "      <td>0</td>\n",
              "    </tr>\n",
              "    <tr>\n",
              "      <th>Age</th>\n",
              "      <td>177</td>\n",
              "    </tr>\n",
              "    <tr>\n",
              "      <th>SibSp</th>\n",
              "      <td>0</td>\n",
              "    </tr>\n",
              "    <tr>\n",
              "      <th>Parch</th>\n",
              "      <td>0</td>\n",
              "    </tr>\n",
              "    <tr>\n",
              "      <th>Ticket</th>\n",
              "      <td>0</td>\n",
              "    </tr>\n",
              "    <tr>\n",
              "      <th>Fare</th>\n",
              "      <td>0</td>\n",
              "    </tr>\n",
              "    <tr>\n",
              "      <th>Cabin</th>\n",
              "      <td>687</td>\n",
              "    </tr>\n",
              "    <tr>\n",
              "      <th>Embarked</th>\n",
              "      <td>2</td>\n",
              "    </tr>\n",
              "  </tbody>\n",
              "</table>\n",
              "</div><br><label><b>dtype:</b> int64</label>"
            ]
          },
          "metadata": {},
          "execution_count": 338
        }
      ]
    },
    {
      "cell_type": "code",
      "source": [
        "df_titanic = df_titanic.dropna(subset=['Age','Cabin','Embarked'])\n",
        "df_titanic.isnull().sum()"
      ],
      "metadata": {
        "colab": {
          "base_uri": "https://localhost:8080/",
          "height": 460
        },
        "id": "qgxmKn-TiDan",
        "outputId": "276c89c2-95dd-4214-a816-37c772ea091c"
      },
      "execution_count": 339,
      "outputs": [
        {
          "output_type": "execute_result",
          "data": {
            "text/plain": [
              "PassengerId    0\n",
              "Survived       0\n",
              "Pclass         0\n",
              "Name           0\n",
              "Sex            0\n",
              "Age            0\n",
              "SibSp          0\n",
              "Parch          0\n",
              "Ticket         0\n",
              "Fare           0\n",
              "Cabin          0\n",
              "Embarked       0\n",
              "dtype: int64"
            ],
            "text/html": [
              "<div>\n",
              "<style scoped>\n",
              "    .dataframe tbody tr th:only-of-type {\n",
              "        vertical-align: middle;\n",
              "    }\n",
              "\n",
              "    .dataframe tbody tr th {\n",
              "        vertical-align: top;\n",
              "    }\n",
              "\n",
              "    .dataframe thead th {\n",
              "        text-align: right;\n",
              "    }\n",
              "</style>\n",
              "<table border=\"1\" class=\"dataframe\">\n",
              "  <thead>\n",
              "    <tr style=\"text-align: right;\">\n",
              "      <th></th>\n",
              "      <th>0</th>\n",
              "    </tr>\n",
              "  </thead>\n",
              "  <tbody>\n",
              "    <tr>\n",
              "      <th>PassengerId</th>\n",
              "      <td>0</td>\n",
              "    </tr>\n",
              "    <tr>\n",
              "      <th>Survived</th>\n",
              "      <td>0</td>\n",
              "    </tr>\n",
              "    <tr>\n",
              "      <th>Pclass</th>\n",
              "      <td>0</td>\n",
              "    </tr>\n",
              "    <tr>\n",
              "      <th>Name</th>\n",
              "      <td>0</td>\n",
              "    </tr>\n",
              "    <tr>\n",
              "      <th>Sex</th>\n",
              "      <td>0</td>\n",
              "    </tr>\n",
              "    <tr>\n",
              "      <th>Age</th>\n",
              "      <td>0</td>\n",
              "    </tr>\n",
              "    <tr>\n",
              "      <th>SibSp</th>\n",
              "      <td>0</td>\n",
              "    </tr>\n",
              "    <tr>\n",
              "      <th>Parch</th>\n",
              "      <td>0</td>\n",
              "    </tr>\n",
              "    <tr>\n",
              "      <th>Ticket</th>\n",
              "      <td>0</td>\n",
              "    </tr>\n",
              "    <tr>\n",
              "      <th>Fare</th>\n",
              "      <td>0</td>\n",
              "    </tr>\n",
              "    <tr>\n",
              "      <th>Cabin</th>\n",
              "      <td>0</td>\n",
              "    </tr>\n",
              "    <tr>\n",
              "      <th>Embarked</th>\n",
              "      <td>0</td>\n",
              "    </tr>\n",
              "  </tbody>\n",
              "</table>\n",
              "</div><br><label><b>dtype:</b> int64</label>"
            ]
          },
          "metadata": {},
          "execution_count": 339
        }
      ]
    },
    {
      "cell_type": "markdown",
      "source": [
        "##Data Visualization"
      ],
      "metadata": {
        "id": "Z5IwEU2KoZgG"
      }
    },
    {
      "cell_type": "markdown",
      "source": [
        "###4- Create a bar plot to visualize the count of survivors (0 = No, 1 = Yes)."
      ],
      "metadata": {
        "id": "rNAP1sg9idS_"
      }
    },
    {
      "cell_type": "code",
      "source": [
        "import numpy as np\n",
        "import seaborn as sns\n",
        "import matplotlib.pyplot as plt\n",
        "df_titanic['Survived'].replace({1: 'Yes', 0: 'No'}).value_counts().plot(kind='bar', title='Survivors')\n",
        "plt.show()\n",
        "\n",
        "\n"
      ],
      "metadata": {
        "colab": {
          "base_uri": "https://localhost:8080/",
          "height": 480
        },
        "id": "UFr7INP9ifg3",
        "outputId": "38bd65b1-6b81-4ac9-ef6c-64476d6352c1"
      },
      "execution_count": 340,
      "outputs": [
        {
          "output_type": "display_data",
          "data": {
            "text/plain": [
              "<Figure size 640x480 with 1 Axes>"
            ],
            "image/png": "[encoded data removed]"
          },
          "metadata": {}
        }
      ]
    },
    {
      "cell_type": "markdown",
      "source": [
        "###5- Draw a box plot to visualize the distribution of ages."
      ],
      "metadata": {
        "id": "_sfCzfOOifw-"
      }
    },
    {
      "cell_type": "code",
      "source": [
        "plt.figure(figsize=(6, 4))\n",
        "sns.boxplot(y=df_titanic['Age'])\n",
        "\n",
        "\n",
        "plt.title('Age Distribution')\n",
        "plt.show()\n"
      ],
      "metadata": {
        "colab": {
          "base_uri": "https://localhost:8080/",
          "height": 372
        },
        "id": "lTICPTRDihin",
        "outputId": "0ff4a816-f314-4970-a166-51746809fe9d"
      },
      "execution_count": 341,
      "outputs": [
        {
          "output_type": "display_data",
          "data": {
            "text/plain": [
              "<Figure size 600x400 with 1 Axes>"
            ],
            "image/png": "[encoded data removed]"
          },
          "metadata": {}
        }
      ]
    },
    {
      "cell_type": "markdown",
      "source": [
        "###6- Generate a heatmap to show correlations between features."
      ],
      "metadata": {
        "id": "SdF_F17pih6G"
      }
    },
    {
      "cell_type": "code",
      "source": [
        "df_titanic = df_titanic.drop(columns=['Name', 'Ticket','Cabin'])\n",
        "\n",
        "df_titanic['Sex'] = df_titanic['Sex'].map({'male': 0, 'female': 1})\n",
        "df_titanic['Embarked'] = df_titanic['Embarked'].map({'S': 0, 'C': 1, 'Q': 2})\n",
        "\n",
        "features =df_titanic.drop(\"Survived\",axis=1)\n",
        "plt.figure(figsize=(10, 8))\n",
        "sns.heatmap(features.corr(), cmap=\"YlOrRd\", annot=True)\n",
        "\n",
        "plt.title('Correlation Heatmap')\n",
        "plt.show()"
      ],
      "metadata": {
        "colab": {
          "base_uri": "https://localhost:8080/",
          "height": 699
        },
        "id": "JIdDfWhfijPm",
        "outputId": "5e293104-2c68-4bcb-ddc5-4cb9e02a1803"
      },
      "execution_count": 342,
      "outputs": [
        {
          "output_type": "display_data",
          "data": {
            "text/plain": [
              "<Figure size 1000x800 with 2 Axes>"
            ],
            "image/png": "[encoded data removed]"
          },
          "metadata": {}
        }
      ]
    },
    {
      "cell_type": "markdown",
      "source": [
        "##Specify Prediction Target"
      ],
      "metadata": {
        "id": "PoDbuyOSoahL"
      }
    },
    {
      "cell_type": "markdown",
      "source": [
        "###7- Identify the target variable Survived and save this variable to a new variable called y."
      ],
      "metadata": {
        "id": "bGg6r_lOozBK"
      }
    },
    {
      "cell_type": "code",
      "source": [
        "y = df_titanic.Survived"
      ],
      "metadata": {
        "id": "YJNGEe6to0KZ"
      },
      "execution_count": 343,
      "outputs": []
    },
    {
      "cell_type": "markdown",
      "source": [
        "##Specify The Features"
      ],
      "metadata": {
        "id": "2Od1miqMowFN"
      }
    },
    {
      "cell_type": "markdown",
      "source": [
        "###8- Construct the feature DataFrame X by selecting relevant features."
      ],
      "metadata": {
        "id": "CrV0l14xpGU5"
      }
    },
    {
      "cell_type": "code",
      "source": [
        "X = df_titanic.drop(\"Survived\",axis=1) #Already droped name , ticket and cabin in heatmap"
      ],
      "metadata": {
        "id": "o-aCtEospHtp"
      },
      "execution_count": 344,
      "outputs": []
    },
    {
      "cell_type": "markdown",
      "source": [
        "##Split Your Data"
      ],
      "metadata": {
        "id": "_o0sOQsso0Nv"
      }
    },
    {
      "cell_type": "markdown",
      "source": [
        "###9- Use the train_test_split function with specified parameters to split the data (X, y) into training and test sets X_train, y_train, X_test, and y_test."
      ],
      "metadata": {
        "id": "44jLHlplpYfJ"
      }
    },
    {
      "cell_type": "code",
      "source": [
        "from sklearn.model_selection import train_test_split\n",
        "\n",
        "X_train, X_test, y_train, y_test = train_test_split(\n",
        "    X, y, test_size=0.1, random_state=1, stratify=y\n",
        ")"
      ],
      "metadata": {
        "id": "pQoSoIkspZkR"
      },
      "execution_count": 345,
      "outputs": []
    },
    {
      "cell_type": "markdown",
      "source": [
        "##Model Training"
      ],
      "metadata": {
        "id": "SEWq-pLCo2g6"
      }
    },
    {
      "cell_type": "markdown",
      "source": [
        "###10- Select a range of max_depth values (e.g., 1, 3, 5, 7, 10,15,20)."
      ],
      "metadata": {
        "id": "ZXDfCtn5o3qq"
      }
    },
    {
      "cell_type": "code",
      "source": [
        "max_depth_settings =range(1, 15)"
      ],
      "metadata": {
        "id": "UqXuoNscp6PM"
      },
      "execution_count": 346,
      "outputs": []
    },
    {
      "cell_type": "markdown",
      "source": [
        "###11- For each max_depth value, train a Random Forest model."
      ],
      "metadata": {
        "id": "QwKmVTydp6px"
      }
    },
    {
      "cell_type": "code",
      "source": [
        "from sklearn.ensemble import RandomForestClassifier\n",
        "\n",
        "training_accuracy = []\n",
        "test_accuracy = []\n",
        "\n",
        "for m in max_depth_settings:\n",
        "    model = RandomForestClassifier(max_depth=m, random_state=10)\n",
        "    model.fit(X_train, y_train)\n",
        "\n",
        "    # Record the training and test accuracy\n",
        "    train_acc = model.score(X_train, y_train)\n",
        "    test_acc = model.score(X_test, y_test)\n",
        "    training_accuracy.append(train_acc)\n",
        "    test_accuracy.append(test_acc)\n"
      ],
      "metadata": {
        "id": "5kyyeFwbp8mh"
      },
      "execution_count": 347,
      "outputs": []
    },
    {
      "cell_type": "markdown",
      "source": [
        "###12- Record the training and test accuracies for varying max_depth Values."
      ],
      "metadata": {
        "id": "al7BsdX6p9CS"
      }
    },
    {
      "cell_type": "code",
      "source": [
        "print(\"training_accuracy:\\n\",training_accuracy,\"\\n test_accuracy:\\n\",test_accuracy)"
      ],
      "metadata": {
        "colab": {
          "base_uri": "https://localhost:8080/"
        },
        "id": "KlN1rhc1p_Oy",
        "outputId": "9ce8c908-5dc4-4c5c-9653-b64c559f1e88"
      },
      "execution_count": 348,
      "outputs": [
        {
          "output_type": "stream",
          "name": "stdout",
          "text": [
            "training_accuracy:\n",
            " [0.7012195121951219, 0.7682926829268293, 0.8292682926829268, 0.8658536585365854, 0.9024390243902439, 0.9512195121951219, 0.975609756097561, 0.9878048780487805, 1.0, 1.0, 1.0, 1.0, 1.0, 1.0] \n",
            " test_accuracy:\n",
            " [0.6842105263157895, 0.7368421052631579, 0.7894736842105263, 0.7894736842105263, 0.7894736842105263, 0.7894736842105263, 0.7894736842105263, 0.7894736842105263, 0.7894736842105263, 0.7368421052631579, 0.7368421052631579, 0.7894736842105263, 0.7368421052631579, 0.7368421052631579]\n"
          ]
        }
      ]
    },
    {
      "cell_type": "markdown",
      "source": [
        "###13- Create a plot of training and test accuracies against different max_depth values."
      ],
      "metadata": {
        "id": "hzw2KE7up_gS"
      }
    },
    {
      "cell_type": "code",
      "source": [
        "plt.figure(figsize=(12, 6))\n",
        "plt.plot(max_depth_settings, training_accuracy, label=\"Training Accuracy\", marker='o')\n",
        "plt.plot(max_depth_settings, test_accuracy, label=\"Test Accuracy\", marker='o')\n",
        "plt.xlabel(\"Max Depth\")\n",
        "plt.ylabel(\"Accuracy\")\n",
        "plt.title(\"Training and Test Accuracy vs. Max Depth\")\n",
        "plt.legend()\n",
        "plt.grid()\n",
        "plt.show()"
      ],
      "metadata": {
        "colab": {
          "base_uri": "https://localhost:8080/",
          "height": 564
        },
        "id": "fdDFbENBqB_a",
        "outputId": "cc25d59f-be72-4fed-86a4-88ad6707927b"
      },
      "execution_count": 349,
      "outputs": [
        {
          "output_type": "display_data",
          "data": {
            "text/plain": [
              "<Figure size 1200x600 with 1 Axes>"
            ],
            "image/png": "[encoded data removed]"
          },
          "metadata": {}
        }
      ]
    },
    {
      "cell_type": "markdown",
      "source": [
        "###14- At which max_depth value do you observe signs of overfitting?"
      ],
      "metadata": {
        "id": "BvGL0inqqCTp"
      }
    },
    {
      "cell_type": "code",
      "source": [
        "#at value 10 we observe there is overfiting as the traning test is hight white test is low"
      ],
      "metadata": {
        "id": "vLgvosEGqEYB"
      },
      "execution_count": 350,
      "outputs": []
    },
    {
      "cell_type": "markdown",
      "source": [
        "###15- Based on your findings, what is the optimal max_depth for this dataset?"
      ],
      "metadata": {
        "id": "7VHitzx2qEoy"
      }
    },
    {
      "cell_type": "code",
      "source": [
        "#8 is the optimal depth"
      ],
      "metadata": {
        "id": "3QIQHqVmqGB6"
      },
      "execution_count": 351,
      "outputs": []
    }
  ]
}